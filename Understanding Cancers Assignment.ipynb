{
 "cells": [
  {
   "cell_type": "code",
   "execution_count": 1,
   "metadata": {},
   "outputs": [
    {
     "name": "stderr",
     "output_type": "stream",
     "text": [
      "C:\\Users\\Tallon\\anaconda3\\lib\\site-packages\\xenaPython\\__init__.py:110: FutureWarning: Possible nested set at position 7\n",
      "  re.sub(r\"^[^[]+[[]([^]]*)[]].*$\", r\"\\1\", query, flags=re.DOTALL))\n"
     ]
    }
   ],
   "source": [
    "import xenaPython as xena\n",
    "import pandas as pd\n",
    "import numpy as np\n",
    "import random\n",
    "from urllib.error import HTTPError"
   ]
  },
  {
   "cell_type": "code",
   "execution_count": 2,
   "metadata": {},
   "outputs": [],
   "source": [
    "#GDC TCGA datasets\n",
    "#code:        DatasetID:\n",
    "acc_Cancer  = 'TCGA-ACC.htseq_fpkm.tsv'\n",
    "chol_Cancer = 'TCGA-CHOL.htseq_fpkm.tsv'\n",
    "blca_Cancer = 'TCGA-BLCA.htseq_fpkm.tsv'\n",
    "brca_Cancer = 'TCGA-BRCA.htseq_fpkm.tsv'\n",
    "cesc_Cancer = 'TCGA-CESC.htseq_fpkm.tsv'\n",
    "\n",
    "coad_Cancer = 'TCGA-COAD.htseq_fpkm.tsv'\n",
    "ucec_Cancer = 'TCGA-UCEC.htseq_fpkm.tsv'\n",
    "esca_Cancer = 'TCGA-ESCA.htseq_fpkm.tsv'\n",
    "hnsc_Cancer = 'TCGA-HNSC.htseq_fpkm.tsv'\n",
    "lihc_Cancer = 'TCGA-LIHC.htseq_fpkm.tsv'\n",
    "\n",
    "ov_Cancer   = 'TCGA-OV.htseq_fpkm.tsv'\n",
    "paad_Cancer = 'TCGA-PAAD.htseq_fpkm.tsv'\n",
    "prad_Cancer = 'TCGA-PRAD.htseq_fpkm.tsv'\n",
    "read_Cancer = 'TCGA-READ.htseq_fpkm.tsv'\n",
    "stad_Cancer = 'TCGA-STAD.htseq_fpkm.tsv'\n",
    "\n",
    "tgct_Cancer = 'TCGA-TGCT.htseq_fpkm.tsv'\n",
    "thca_Cancer = 'TCGA-THCA.htseq_fpkm.tsv'\n",
    "\n",
    "links = [acc_Cancer, chol_Cancer, blca_Cancer,brca_Cancer, cesc_Cancer, coad_Cancer, \n",
    "         ucec_Cancer, esca_Cancer, hnsc_Cancer, lihc_Cancer, ov_Cancer, paad_Cancer, \n",
    "         prad_Cancer, read_Cancer, stad_Cancer, tgct_Cancer, thca_Cancer]"
   ]
  },
  {
   "cell_type": "code",
   "execution_count": 3,
   "metadata": {},
   "outputs": [
    {
     "name": "stdout",
     "output_type": "stream",
     "text": [
      "['ENSG00000000003.13', 'ENSG00000000005.5', 'ENSG00000000419.11', 'ENSG00000000457.12', 'ENSG00000000460.15', 'ENSG00000000938.11', 'ENSG00000000971.14', 'ENSG00000001036.12', 'ENSG00000001084.9', 'ENSG00000001167.13']\n"
     ]
    },
    {
     "data": {
      "text/plain": [
       "135"
      ]
     },
     "execution_count": 3,
     "metadata": {},
     "output_type": "execute_result"
    }
   ],
   "source": [
    "#The hub of the dataset will be at the top of the page\n",
    "hub = \"https://gdc.xenahubs.net\"\n",
    "dataset = \"TARGET-ALL-P3.htseq_fpkm.tsv\"\n",
    "\n",
    "#command to get the sampleIDs of the dataset\n",
    "samples = xena.dataset_samples (hub, dataset, None)\n",
    "#print(samples)\n",
    "\n",
    "#command to get the fields/Identifiers of the dataset\n",
    "identifiers = xena.dataset_field (hub, dataset)\n",
    "identifiers.remove('sampleID')\n",
    "print(identifiers[:10])\n",
    "\n",
    "#command to get the data of the dataset\n",
    "position, data = xena.dataset_probe_values (hub, dataset, samples, identifiers[:10])\n",
    "\n",
    "#Use pandas to get the data in table form and transpose it, so data is grouped by samples and not identifers.\n",
    "pdData = pd.DataFrame(data).T\n",
    "len(pdData)\n"
   ]
  },
  {
   "cell_type": "code",
   "execution_count": 4,
   "metadata": {
    "scrolled": true
   },
   "outputs": [],
   "source": [
    "def getDataTable(dataset, sample_size):\n",
    "    hub = 'https://gdc.xenahubs.net'\n",
    "    samples = xena.dataset_samples (hub, dataset, None)\n",
    "    \n",
    "    if(sample_size < len(samples)):\n",
    "        samples = random.sample(samples, sample_size)\n",
    "        \n",
    "    \n",
    "    identifiers = xena.dataset_field (hub, dataset)\n",
    "    identifiers.remove('sampleID')\n",
    "    position, dataAsList = xena.dataset_probe_values (hub, dataset, samples, identifiers)\n",
    "    \n",
    "    data = pd.DataFrame(dataAsList).T\n",
    "    \n",
    "    return (samples, identifiers, data)"
   ]
  },
  {
   "cell_type": "code",
   "execution_count": 5,
   "metadata": {},
   "outputs": [],
   "source": [
    "def collectAllData(links, sampleCountPerDB):\n",
    "    \n",
    "    data = pd.DataFrame()\n",
    "    identifiers = []\n",
    "    samples = []\n",
    "    cancer_types = []\n",
    "    \n",
    "    for l in links:\n",
    "        i = 0\n",
    "        while True:\n",
    "            print(l, \" attempt: \", (i+1))\n",
    "            try:\n",
    "                l_samples, l_idif, l_data = getDataTable(l, sampleCountPerDB)\n",
    "                data = data.append(l_data, ignore_index = True)\n",
    "                identifiers = l_idif\n",
    "                samples += l_samples\n",
    "                cancer_types += [l[5:l.find('.')]]*len(l_samples)\n",
    "                \n",
    "            except HTTPError:\n",
    "                if(i > 3):\n",
    "                    break\n",
    "                else:\n",
    "                    i+=1\n",
    "                    continue\n",
    "            break\n",
    "            \n",
    "    return samples, identifiers, cancer_types, data\n",
    "    \n",
    "    "
   ]
  },
  {
   "cell_type": "code",
   "execution_count": 6,
   "metadata": {},
   "outputs": [],
   "source": [
    "def selectCancerType(cancer_type, cancer_types_list):\n",
    "    notString = 'Not'+cancer_type\n",
    "    new_types_List = [] \n",
    "    \n",
    "    for i in range(len(cancer_types_list)):\n",
    "        t = cancer_types_list[i]\n",
    "        if(t != cancer_type):\n",
    "            new_types_List.append(notString)\n",
    "        else:\n",
    "            new_types_List.append(cancer_type)\n",
    "        \n",
    "    \n",
    "    return new_types_List"
   ]
  },
  {
   "cell_type": "code",
   "execution_count": 7,
   "metadata": {},
   "outputs": [],
   "source": [
    "from sklearn.feature_selection import VarianceThreshold\n",
    "\n",
    "def getVarianceMask(variance, data):\n",
    "    sel = VarianceThreshold(threshold=variance)\n",
    "    sel.fit(data.values)\n",
    "    return sel.get_support()\n"
   ]
  },
  {
   "cell_type": "code",
   "execution_count": 8,
   "metadata": {},
   "outputs": [],
   "source": [
    "from sklearn.feature_selection import SelectKBest, chi2\n",
    "\n",
    "def getBestKMask(k, data, cancer_types):\n",
    "    sel = SelectKBest(chi2, k)\n",
    "    sel.fit(data, cancer_types)\n",
    "    return sel.get_support()\n",
    "    "
   ]
  },
  {
   "cell_type": "code",
   "execution_count": 9,
   "metadata": {},
   "outputs": [],
   "source": [
    "def createFeatureMask(desiredFeatureIndexList, features):\n",
    "    mask = []\n",
    "    for i in range(len(features)):\n",
    "        if(i in desiredFeatureIndexList):\n",
    "            mask.append(True)\n",
    "        else:\n",
    "            mask.append(False)\n",
    "            \n",
    "    return mask"
   ]
  },
  {
   "cell_type": "code",
   "execution_count": 10,
   "metadata": {},
   "outputs": [],
   "source": [
    "from matplotlib import pyplot as plt\n",
    "from sklearn import svm\n",
    "\n",
    "def f_importances(coef, names):\n",
    "    imp = coef\n",
    "    imp,names = zip(*sorted(zip(imp,names)))\n",
    "    plt.barh(range(len(names)), imp, align='center')\n",
    "    plt.yticks(range(len(names)), names)\n",
    "    plt.show()"
   ]
  },
  {
   "cell_type": "code",
   "execution_count": 11,
   "metadata": {
    "scrolled": false
   },
   "outputs": [],
   "source": [
    "from sklearn import tree\n",
    "import graphviz\n",
    "\n",
    "def decisionTreeTask(data, identifiers, cancer_types, max_depth, selected_name):\n",
    "    \n",
    "    clf = tree.DecisionTreeClassifier(max_depth = max_depth)\n",
    "    clf.fit(data, cancer_types)\n",
    "    \n",
    "    dot_data = tree.export_graphviz(clf, out_file=None, feature_names = identifiers, \n",
    "                                    class_names = np.unique(np.array(cancer_types)), \n",
    "                                    filled=True, rounded=True, special_characters=True)\n",
    "    graph = graphviz.Source(dot_data, format=\"png\")\n",
    "    #graph.render(\"./\")\n",
    "    \n",
    "    textTree = tree.export_text(clf, feature_names = identifiers)\n",
    "    \n",
    "    # n features of highest importance\n",
    "    n = 10\n",
    "\n",
    "    # index of most important n features.\n",
    "    most_important_features = sorted(range(len(clf.feature_importances_)), key = lambda sub: clf.feature_importances_[sub])[-n:]\n",
    "    \n",
    "    return graph, textTree, most_important_features"
   ]
  },
  {
   "cell_type": "code",
   "execution_count": 12,
   "metadata": {},
   "outputs": [],
   "source": [
    "from matplotlib import pyplot as plt\n",
    "from sklearn import svm\n",
    "\n",
    "def getSVMFeatures(sample_types, identifiers, data, mask):\n",
    "    \n",
    "    feature_names = np.array(identifiers)[mask]\n",
    "    masked_data = data[:,mask].tolist()\n",
    "    \n",
    "    svm_ = svm.SVC(kernel='linear')\n",
    "    svm_.fit(masked_data, sample_types)\n",
    "    \n",
    "    return svm_.coef_, feature_names"
   ]
  },
  {
   "cell_type": "code",
   "execution_count": 13,
   "metadata": {},
   "outputs": [],
   "source": [
    "def getAnalysis(data, samples, identifiers, cancer_types, selected_cancer, n_kfiltered, max_depth, top_n_features):\n",
    "    \n",
    "    #Selecting Target Cancer\n",
    "    if(selected_cancer != ''):\n",
    "        targetList = selectCancerType(selected_cancer, cancer_types)\n",
    "    else:\n",
    "        targetList = cancer_types\n",
    "    \n",
    "    #Filtering Features\n",
    "    kMask = getBestKMask(n_kfiltered, data, targetList)\n",
    "    filteredIdentifiers = np.array(identifiers)[kMask]\n",
    "    filteredData = data.values[:,kMask]\n",
    "    \n",
    "    #Fitting Decision Tree\n",
    "    graph, textTree, most_important_features = decisionTreeTask(filteredData.tolist(), filteredIdentifiers.tolist(), \n",
    "                                                                targetList, max_depth, selected_cancer)\n",
    "    \n",
    "    #Getting Mask to filter only the most important features\n",
    "    finalMask = createFeatureMask(most_important_features, filteredIdentifiers.tolist())\n",
    "    \n",
    "    #Applying SVM to important features\n",
    "    coefs, feature_names = getSVMFeatures(targetList, filteredIdentifiers, filteredData, finalMask)\n",
    "    \n",
    "    #f_importances(coefs[0].tolist(), feature_names.tolist())\n",
    "    \n",
    "    \n",
    "    return graph, textTree, coefs[0].tolist(), feature_names.tolist()\n",
    "    \n",
    "    "
   ]
  },
  {
   "cell_type": "code",
   "execution_count": 14,
   "metadata": {
    "scrolled": false
   },
   "outputs": [
    {
     "name": "stdout",
     "output_type": "stream",
     "text": [
      "TCGA-ACC.htseq_fpkm.tsv  attempt:  1\n",
      "TCGA-CHOL.htseq_fpkm.tsv  attempt:  1\n",
      "TCGA-BLCA.htseq_fpkm.tsv  attempt:  1\n",
      "TCGA-BRCA.htseq_fpkm.tsv  attempt:  1\n",
      "TCGA-BRCA.htseq_fpkm.tsv  attempt:  2\n",
      "TCGA-CESC.htseq_fpkm.tsv  attempt:  1\n",
      "TCGA-COAD.htseq_fpkm.tsv  attempt:  1\n",
      "TCGA-UCEC.htseq_fpkm.tsv  attempt:  1\n",
      "TCGA-ESCA.htseq_fpkm.tsv  attempt:  1\n",
      "TCGA-HNSC.htseq_fpkm.tsv  attempt:  1\n",
      "TCGA-LIHC.htseq_fpkm.tsv  attempt:  1\n",
      "TCGA-OV.htseq_fpkm.tsv  attempt:  1\n",
      "TCGA-PAAD.htseq_fpkm.tsv  attempt:  1\n",
      "TCGA-PRAD.htseq_fpkm.tsv  attempt:  1\n",
      "TCGA-READ.htseq_fpkm.tsv  attempt:  1\n",
      "TCGA-STAD.htseq_fpkm.tsv  attempt:  1\n",
      "TCGA-TGCT.htseq_fpkm.tsv  attempt:  1\n",
      "TCGA-THCA.htseq_fpkm.tsv  attempt:  1\n"
     ]
    }
   ],
   "source": [
    "samples, identifiers, cancer_types, data = collectAllData(links, 40)"
   ]
  },
  {
   "cell_type": "code",
   "execution_count": 39,
   "metadata": {
    "scrolled": false
   },
   "outputs": [],
   "source": [
    "graph, textTree, coefs, feature_names = getAnalysis(data, samples, identifiers, cancer_types, 'OV', 100, 10, 10)"
   ]
  },
  {
   "cell_type": "code",
   "execution_count": 40,
   "metadata": {
    "scrolled": false
   },
   "outputs": [
    {
     "data": {
      "image/svg+xml": [
       "<?xml version=\"1.0\" encoding=\"UTF-8\" standalone=\"no\"?>\r\n",
       "<!DOCTYPE svg PUBLIC \"-//W3C//DTD SVG 1.1//EN\"\r\n",
       " \"http://www.w3.org/Graphics/SVG/1.1/DTD/svg11.dtd\">\r\n",
       "<!-- Generated by graphviz version 2.38.0 (20140413.2041)\r\n",
       " -->\r\n",
       "<!-- Title: Tree Pages: 1 -->\r\n",
       "<svg width=\"540pt\" height=\"314pt\"\r\n",
       " viewBox=\"0.00 0.00 540.00 314.00\" xmlns=\"http://www.w3.org/2000/svg\" xmlns:xlink=\"http://www.w3.org/1999/xlink\">\r\n",
       "<g id=\"graph0\" class=\"graph\" transform=\"scale(1 1) rotate(0) translate(4 310)\">\r\n",
       "<title>Tree</title>\r\n",
       "<polygon fill=\"white\" stroke=\"none\" points=\"-4,4 -4,-310 536,-310 536,4 -4,4\"/>\r\n",
       "<!-- 0 -->\r\n",
       "<g id=\"node1\" class=\"node\"><title>0</title>\r\n",
       "<path fill=\"#e78945\" stroke=\"black\" d=\"M364.5,-306C364.5,-306 168.5,-306 168.5,-306 162.5,-306 156.5,-300 156.5,-294 156.5,-294 156.5,-235 156.5,-235 156.5,-229 162.5,-223 168.5,-223 168.5,-223 364.5,-223 364.5,-223 370.5,-223 376.5,-229 376.5,-235 376.5,-235 376.5,-294 376.5,-294 376.5,-300 370.5,-306 364.5,-306\"/>\r\n",
       "<text text-anchor=\"start\" x=\"164.5\" y=\"-290.8\" font-family=\"Helvetica,sans-Serif\" font-size=\"14.00\">ENSG00000184937.11 ≤ 3.191</text>\r\n",
       "<text text-anchor=\"start\" x=\"229\" y=\"-275.8\" font-family=\"Helvetica,sans-Serif\" font-size=\"14.00\">gini = 0.111</text>\r\n",
       "<text text-anchor=\"start\" x=\"219\" y=\"-260.8\" font-family=\"Helvetica,sans-Serif\" font-size=\"14.00\">samples = 680</text>\r\n",
       "<text text-anchor=\"start\" x=\"213.5\" y=\"-245.8\" font-family=\"Helvetica,sans-Serif\" font-size=\"14.00\">value = [640, 40]</text>\r\n",
       "<text text-anchor=\"start\" x=\"220.5\" y=\"-230.8\" font-family=\"Helvetica,sans-Serif\" font-size=\"14.00\">class = NotOV</text>\r\n",
       "</g>\r\n",
       "<!-- 1 -->\r\n",
       "<g id=\"node2\" class=\"node\"><title>1</title>\r\n",
       "<path fill=\"#e5813a\" stroke=\"black\" d=\"M245.5,-187C245.5,-187 57.5,-187 57.5,-187 51.5,-187 45.5,-181 45.5,-175 45.5,-175 45.5,-116 45.5,-116 45.5,-110 51.5,-104 57.5,-104 57.5,-104 245.5,-104 245.5,-104 251.5,-104 257.5,-110 257.5,-116 257.5,-116 257.5,-175 257.5,-175 257.5,-181 251.5,-187 245.5,-187\"/>\r\n",
       "<text text-anchor=\"start\" x=\"53.5\" y=\"-171.8\" font-family=\"Helvetica,sans-Serif\" font-size=\"14.00\">ENSG00000228835.1 ≤ 2.809</text>\r\n",
       "<text text-anchor=\"start\" x=\"114\" y=\"-156.8\" font-family=\"Helvetica,sans-Serif\" font-size=\"14.00\">gini = 0.006</text>\r\n",
       "<text text-anchor=\"start\" x=\"104\" y=\"-141.8\" font-family=\"Helvetica,sans-Serif\" font-size=\"14.00\">samples = 637</text>\r\n",
       "<text text-anchor=\"start\" x=\"103\" y=\"-126.8\" font-family=\"Helvetica,sans-Serif\" font-size=\"14.00\">value = [635, 2]</text>\r\n",
       "<text text-anchor=\"start\" x=\"105.5\" y=\"-111.8\" font-family=\"Helvetica,sans-Serif\" font-size=\"14.00\">class = NotOV</text>\r\n",
       "</g>\r\n",
       "<!-- 0&#45;&gt;1 -->\r\n",
       "<g id=\"edge1\" class=\"edge\"><title>0&#45;&gt;1</title>\r\n",
       "<path fill=\"none\" stroke=\"black\" d=\"M226.601,-222.907C217.503,-213.651 207.754,-203.732 198.393,-194.209\"/>\r\n",
       "<polygon fill=\"black\" stroke=\"black\" points=\"200.834,-191.699 191.328,-187.021 195.842,-196.606 200.834,-191.699\"/>\r\n",
       "<text text-anchor=\"middle\" x=\"191.113\" y=\"-208.32\" font-family=\"Helvetica,sans-Serif\" font-size=\"14.00\">True</text>\r\n",
       "</g>\r\n",
       "<!-- 4 -->\r\n",
       "<g id=\"node5\" class=\"node\"><title>4</title>\r\n",
       "<path fill=\"#53aae8\" stroke=\"black\" d=\"M475.5,-187C475.5,-187 287.5,-187 287.5,-187 281.5,-187 275.5,-181 275.5,-175 275.5,-175 275.5,-116 275.5,-116 275.5,-110 281.5,-104 287.5,-104 287.5,-104 475.5,-104 475.5,-104 481.5,-104 487.5,-110 487.5,-116 487.5,-116 487.5,-175 487.5,-175 487.5,-181 481.5,-187 475.5,-187\"/>\r\n",
       "<text text-anchor=\"start\" x=\"283.5\" y=\"-171.8\" font-family=\"Helvetica,sans-Serif\" font-size=\"14.00\">ENSG00000277105.1 ≤ 2.931</text>\r\n",
       "<text text-anchor=\"start\" x=\"344\" y=\"-156.8\" font-family=\"Helvetica,sans-Serif\" font-size=\"14.00\">gini = 0.206</text>\r\n",
       "<text text-anchor=\"start\" x=\"338\" y=\"-141.8\" font-family=\"Helvetica,sans-Serif\" font-size=\"14.00\">samples = 43</text>\r\n",
       "<text text-anchor=\"start\" x=\"337\" y=\"-126.8\" font-family=\"Helvetica,sans-Serif\" font-size=\"14.00\">value = [5, 38]</text>\r\n",
       "<text text-anchor=\"start\" x=\"346.5\" y=\"-111.8\" font-family=\"Helvetica,sans-Serif\" font-size=\"14.00\">class = OV</text>\r\n",
       "</g>\r\n",
       "<!-- 0&#45;&gt;4 -->\r\n",
       "<g id=\"edge4\" class=\"edge\"><title>0&#45;&gt;4</title>\r\n",
       "<path fill=\"none\" stroke=\"black\" d=\"M306.399,-222.907C315.497,-213.651 325.246,-203.732 334.607,-194.209\"/>\r\n",
       "<polygon fill=\"black\" stroke=\"black\" points=\"337.158,-196.606 341.672,-187.021 332.166,-191.699 337.158,-196.606\"/>\r\n",
       "<text text-anchor=\"middle\" x=\"341.887\" y=\"-208.32\" font-family=\"Helvetica,sans-Serif\" font-size=\"14.00\">False</text>\r\n",
       "</g>\r\n",
       "<!-- 2 -->\r\n",
       "<g id=\"node3\" class=\"node\"><title>2</title>\r\n",
       "<path fill=\"#e58139\" stroke=\"black\" d=\"M101,-68C101,-68 12,-68 12,-68 6,-68 0,-62 0,-56 0,-56 0,-12 0,-12 0,-6 6,-0 12,-0 12,-0 101,-0 101,-0 107,-0 113,-6 113,-12 113,-12 113,-56 113,-56 113,-62 107,-68 101,-68\"/>\r\n",
       "<text text-anchor=\"start\" x=\"27.5\" y=\"-52.8\" font-family=\"Helvetica,sans-Serif\" font-size=\"14.00\">gini = 0.0</text>\r\n",
       "<text text-anchor=\"start\" x=\"9\" y=\"-37.8\" font-family=\"Helvetica,sans-Serif\" font-size=\"14.00\">samples = 635</text>\r\n",
       "<text text-anchor=\"start\" x=\"8\" y=\"-22.8\" font-family=\"Helvetica,sans-Serif\" font-size=\"14.00\">value = [635, 0]</text>\r\n",
       "<text text-anchor=\"start\" x=\"10.5\" y=\"-7.8\" font-family=\"Helvetica,sans-Serif\" font-size=\"14.00\">class = NotOV</text>\r\n",
       "</g>\r\n",
       "<!-- 1&#45;&gt;2 -->\r\n",
       "<g id=\"edge2\" class=\"edge\"><title>1&#45;&gt;2</title>\r\n",
       "<path fill=\"none\" stroke=\"black\" d=\"M116.126,-103.726C108.292,-94.6966 99.9861,-85.1235 92.1416,-76.0816\"/>\r\n",
       "<polygon fill=\"black\" stroke=\"black\" points=\"94.5871,-73.5595 85.3901,-68.2996 89.2996,-78.1467 94.5871,-73.5595\"/>\r\n",
       "</g>\r\n",
       "<!-- 3 -->\r\n",
       "<g id=\"node4\" class=\"node\"><title>3</title>\r\n",
       "<path fill=\"#399de5\" stroke=\"black\" d=\"M216,-68C216,-68 143,-68 143,-68 137,-68 131,-62 131,-56 131,-56 131,-12 131,-12 131,-6 137,-0 143,-0 143,-0 216,-0 216,-0 222,-0 228,-6 228,-12 228,-12 228,-56 228,-56 228,-62 222,-68 216,-68\"/>\r\n",
       "<text text-anchor=\"start\" x=\"150.5\" y=\"-52.8\" font-family=\"Helvetica,sans-Serif\" font-size=\"14.00\">gini = 0.0</text>\r\n",
       "<text text-anchor=\"start\" x=\"140\" y=\"-37.8\" font-family=\"Helvetica,sans-Serif\" font-size=\"14.00\">samples = 2</text>\r\n",
       "<text text-anchor=\"start\" x=\"139\" y=\"-22.8\" font-family=\"Helvetica,sans-Serif\" font-size=\"14.00\">value = [0, 2]</text>\r\n",
       "<text text-anchor=\"start\" x=\"144.5\" y=\"-7.8\" font-family=\"Helvetica,sans-Serif\" font-size=\"14.00\">class = OV</text>\r\n",
       "</g>\r\n",
       "<!-- 1&#45;&gt;3 -->\r\n",
       "<g id=\"edge3\" class=\"edge\"><title>1&#45;&gt;3</title>\r\n",
       "<path fill=\"none\" stroke=\"black\" d=\"M161.926,-103.726C164.072,-95.3351 166.338,-86.4745 168.503,-78.0072\"/>\r\n",
       "<polygon fill=\"black\" stroke=\"black\" points=\"171.898,-78.855 170.985,-68.2996 165.117,-77.1208 171.898,-78.855\"/>\r\n",
       "</g>\r\n",
       "<!-- 5 -->\r\n",
       "<g id=\"node6\" class=\"node\"><title>5</title>\r\n",
       "<path fill=\"#e58139\" stroke=\"black\" d=\"M396.5,-68C396.5,-68 312.5,-68 312.5,-68 306.5,-68 300.5,-62 300.5,-56 300.5,-56 300.5,-12 300.5,-12 300.5,-6 306.5,-0 312.5,-0 312.5,-0 396.5,-0 396.5,-0 402.5,-0 408.5,-6 408.5,-12 408.5,-12 408.5,-56 408.5,-56 408.5,-62 402.5,-68 396.5,-68\"/>\r\n",
       "<text text-anchor=\"start\" x=\"325.5\" y=\"-52.8\" font-family=\"Helvetica,sans-Serif\" font-size=\"14.00\">gini = 0.0</text>\r\n",
       "<text text-anchor=\"start\" x=\"315\" y=\"-37.8\" font-family=\"Helvetica,sans-Serif\" font-size=\"14.00\">samples = 5</text>\r\n",
       "<text text-anchor=\"start\" x=\"314\" y=\"-22.8\" font-family=\"Helvetica,sans-Serif\" font-size=\"14.00\">value = [5, 0]</text>\r\n",
       "<text text-anchor=\"start\" x=\"308.5\" y=\"-7.8\" font-family=\"Helvetica,sans-Serif\" font-size=\"14.00\">class = NotOV</text>\r\n",
       "</g>\r\n",
       "<!-- 4&#45;&gt;5 -->\r\n",
       "<g id=\"edge5\" class=\"edge\"><title>4&#45;&gt;5</title>\r\n",
       "<path fill=\"none\" stroke=\"black\" d=\"M371.446,-103.726C369.4,-95.4263 367.24,-86.6671 365.173,-78.2834\"/>\r\n",
       "<polygon fill=\"black\" stroke=\"black\" points=\"368.503,-77.1709 362.711,-68.2996 361.707,-78.8467 368.503,-77.1709\"/>\r\n",
       "</g>\r\n",
       "<!-- 6 -->\r\n",
       "<g id=\"node7\" class=\"node\"><title>6</title>\r\n",
       "<path fill=\"#399de5\" stroke=\"black\" d=\"M520,-68C520,-68 439,-68 439,-68 433,-68 427,-62 427,-56 427,-56 427,-12 427,-12 427,-6 433,-0 439,-0 439,-0 520,-0 520,-0 526,-0 532,-6 532,-12 532,-12 532,-56 532,-56 532,-62 526,-68 520,-68\"/>\r\n",
       "<text text-anchor=\"start\" x=\"450.5\" y=\"-52.8\" font-family=\"Helvetica,sans-Serif\" font-size=\"14.00\">gini = 0.0</text>\r\n",
       "<text text-anchor=\"start\" x=\"436\" y=\"-37.8\" font-family=\"Helvetica,sans-Serif\" font-size=\"14.00\">samples = 38</text>\r\n",
       "<text text-anchor=\"start\" x=\"435\" y=\"-22.8\" font-family=\"Helvetica,sans-Serif\" font-size=\"14.00\">value = [0, 38]</text>\r\n",
       "<text text-anchor=\"start\" x=\"444.5\" y=\"-7.8\" font-family=\"Helvetica,sans-Serif\" font-size=\"14.00\">class = OV</text>\r\n",
       "</g>\r\n",
       "<!-- 4&#45;&gt;6 -->\r\n",
       "<g id=\"edge6\" class=\"edge\"><title>4&#45;&gt;6</title>\r\n",
       "<path fill=\"none\" stroke=\"black\" d=\"M417.992,-103.726C426.155,-94.6054 434.814,-84.93 442.978,-75.8078\"/>\r\n",
       "<polygon fill=\"black\" stroke=\"black\" points=\"445.637,-78.0853 449.698,-68.2996 440.421,-73.417 445.637,-78.0853\"/>\r\n",
       "</g>\r\n",
       "</g>\r\n",
       "</svg>\r\n"
      ],
      "text/plain": [
       "<graphviz.files.Source at 0x177d5ba7888>"
      ]
     },
     "execution_count": 40,
     "metadata": {},
     "output_type": "execute_result"
    }
   ],
   "source": [
    "graph"
   ]
  },
  {
   "cell_type": "code",
   "execution_count": 41,
   "metadata": {},
   "outputs": [
    {
     "data": {
      "text/plain": [
       "'|--- ENSG00000184937.11 <= 3.19\\n|   |--- ENSG00000228835.1 <= 2.81\\n|   |   |--- class: NotOV\\n|   |--- ENSG00000228835.1 >  2.81\\n|   |   |--- class: OV\\n|--- ENSG00000184937.11 >  3.19\\n|   |--- ENSG00000277105.1 <= 2.93\\n|   |   |--- class: NotOV\\n|   |--- ENSG00000277105.1 >  2.93\\n|   |   |--- class: OV\\n'"
      ]
     },
     "execution_count": 41,
     "metadata": {},
     "output_type": "execute_result"
    }
   ],
   "source": [
    "textTree"
   ]
  },
  {
   "cell_type": "code",
   "execution_count": 42,
   "metadata": {
    "scrolled": true
   },
   "outputs": [
    {
     "data": {
      "image/png": "[encoded data removed]",
      "text/plain": [
       "<Figure size 432x288 with 1 Axes>"
      ]
     },
     "metadata": {
      "needs_background": "light"
     },
     "output_type": "display_data"
    }
   ],
   "source": [
    "f_importances(coefs, feature_names)"
   ]
  },
  {
   "cell_type": "code",
   "execution_count": null,
   "metadata": {},
   "outputs": [],
   "source": []
  }
 ],
 "metadata": {
  "kernelspec": {
   "display_name": "Python 3",
   "language": "python",
   "name": "python3"
  },
  "language_info": {
   "codemirror_mode": {
    "name": "ipython",
    "version": 3
   },
   "file_extension": ".py",
   "mimetype": "text/x-python",
   "name": "python",
   "nbconvert_exporter": "python",
   "pygments_lexer": "ipython3",
   "version": "3.7.6"
  }
 },
 "nbformat": 4,
 "nbformat_minor": 4
}
